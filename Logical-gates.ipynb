{
 "cells": [
  {
   "cell_type": "code",
   "execution_count": 11,
   "id": "fb70300d",
   "metadata": {},
   "outputs": [
    {
     "name": "stdout",
     "output_type": "stream",
     "text": [
      "The truth table for AND Logical gate is : \n",
      "\n",
      "A\tB\tResult\n",
      "\n",
      "1\t1\t1\n",
      "1\t0\t0\n",
      "0\t1\t0\n",
      "0\t0\t0\n"
     ]
    }
   ],
   "source": [
    "import itertools\n",
    "print(\"The truth table for AND Logical gate is : \\n\")\n",
    "\n",
    "print(\"A\\tB\\tResult\\n\")\n",
    "input_comb = list(itertools.product([True, False], repeat=2))\n",
    "for combination in input_comb:\n",
    "    A, B = combination\n",
    "    result = A and B\n",
    "    print(f\"{int(A)}\\t{int(B)}\\t{int(result)}\")"
   ]
  },
  {
   "cell_type": "code",
   "execution_count": 14,
   "id": "a96d20b8",
   "metadata": {},
   "outputs": [
    {
     "name": "stdout",
     "output_type": "stream",
     "text": [
      "The truth table of OR logic gate is: \n",
      "\n",
      "A\tB\tResult\n",
      "\n",
      "1\t1\t1\n",
      "1\t0\t1\n",
      "0\t1\t1\n",
      "0\t0\t0\n"
     ]
    }
   ],
   "source": [
    "print(\"The truth table of OR logic gate is: \\n\")\n",
    "print(\"A\\tB\\tResult\\n\")\n",
    "combinations = list(itertools.product([True, False], repeat=2))\n",
    "for comb in combinations:\n",
    "    A, B = comb\n",
    "    result = A or B\n",
    "    print(f\"{int(A)}\\t{int(B)}\\t{int(result)}\")"
   ]
  },
  {
   "cell_type": "code",
   "execution_count": 15,
   "id": "3c517e76",
   "metadata": {},
   "outputs": [
    {
     "name": "stdout",
     "output_type": "stream",
     "text": [
      "The truth table for AND Logical gate is : \n",
      "\n",
      "A\tB\tResult\n",
      "\n",
      "1\t1\t0\n",
      "1\t0\t1\n",
      "0\t1\t1\n",
      "0\t0\t1\n"
     ]
    }
   ],
   "source": [
    "import itertools\n",
    "print(\"The truth table for NAND Logical gate is : \\n\")\n",
    "\n",
    "print(\"A\\tB\\tResult\\n\")\n",
    "input_comb = list(itertools.product([True, False], repeat=2))\n",
    "for combination in input_comb:\n",
    "    A, B = combination\n",
    "    result = not(A and B)\n",
    "    print(f\"{int(A)}\\t{int(B)}\\t{int(result)}\")"
   ]
  },
  {
   "cell_type": "code",
   "execution_count": 16,
   "id": "dc0331dd",
   "metadata": {},
   "outputs": [
    {
     "name": "stdout",
     "output_type": "stream",
     "text": [
      "The truth table of OR logic gate is: \n",
      "\n",
      "A\tB\tResult\n",
      "\n",
      "1\t1\t0\n",
      "1\t0\t0\n",
      "0\t1\t0\n",
      "0\t0\t1\n"
     ]
    }
   ],
   "source": [
    "print(\"The truth table of NOR logic gate is: \\n\")\n",
    "print(\"A\\tB\\tResult\\n\")\n",
    "combinations = list(itertools.product([True, False], repeat=2))\n",
    "for comb in combinations:\n",
    "    A, B = comb\n",
    "    result = not(A or B)\n",
    "    print(f\"{int(A)}\\t{int(B)}\\t{int(result)}\")"
   ]
  },
  {
   "cell_type": "code",
   "execution_count": 17,
   "id": "f31e2b32",
   "metadata": {},
   "outputs": [
    {
     "name": "stdout",
     "output_type": "stream",
     "text": [
      "The truth table of XOR logic gate is: \n",
      "\n",
      "A\tB\tResult\n",
      "\n",
      "1\t1\t0\n",
      "1\t0\t1\n",
      "0\t1\t1\n",
      "0\t0\t0\n"
     ]
    }
   ],
   "source": [
    "print(\"The truth table of XOR logic gate is: \\n\")\n",
    "print(\"A\\tB\\tResult\\n\")\n",
    "combinations = list(itertools.product([True, False], repeat=2))\n",
    "for comb in combinations:\n",
    "    A, B = comb\n",
    "    result = A ^ B\n",
    "    print(f\"{int(A)}\\t{int(B)}\\t{int(result)}\")"
   ]
  },
  {
   "cell_type": "code",
   "execution_count": 18,
   "id": "2d7c9ea2",
   "metadata": {},
   "outputs": [
    {
     "name": "stdout",
     "output_type": "stream",
     "text": [
      "The truth table of XNOR logic gate is: \n",
      "\n",
      "A\tB\tResult\n",
      "\n",
      "1\t1\t1\n",
      "1\t0\t0\n",
      "0\t1\t0\n",
      "0\t0\t1\n"
     ]
    }
   ],
   "source": [
    "print(\"The truth table of XNOR logic gate is: \\n\")\n",
    "print(\"A\\tB\\tResult\\n\")\n",
    "combinations = list(itertools.product([True, False], repeat=2))\n",
    "for comb in combinations:\n",
    "    A, B = comb\n",
    "    result = not(A ^ B)\n",
    "    print(f\"{int(A)}\\t{int(B)}\\t{int(result)}\")"
   ]
  },
  {
   "cell_type": "code",
   "execution_count": null,
   "id": "3a9712d0",
   "metadata": {},
   "outputs": [],
   "source": []
  }
 ],
 "metadata": {
  "kernelspec": {
   "display_name": "Python 3 (ipykernel)",
   "language": "python",
   "name": "python3"
  },
  "language_info": {
   "codemirror_mode": {
    "name": "ipython",
    "version": 3
   },
   "file_extension": ".py",
   "mimetype": "text/x-python",
   "name": "python",
   "nbconvert_exporter": "python",
   "pygments_lexer": "ipython3",
   "version": "3.11.5"
  }
 },
 "nbformat": 4,
 "nbformat_minor": 5
}
